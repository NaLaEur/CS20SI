{
 "cells": [
  {
   "cell_type": "code",
   "execution_count": 1,
   "metadata": {},
   "outputs": [
    {
     "name": "stderr",
     "output_type": "stream",
     "text": [
      "D:\\Anaconda3\\lib\\site-packages\\h5py\\__init__.py:36: FutureWarning: Conversion of the second argument of issubdtype from `float` to `np.floating` is deprecated. In future, it will be treated as `np.float64 == np.dtype(float).type`.\n",
      "  from ._conv import register_converters as _register_converters\n"
     ]
    }
   ],
   "source": [
    "import tensorflow as tf"
   ]
  },
  {
   "cell_type": "markdown",
   "metadata": {},
   "source": [
    "#### 1. Visualize it with TensorBoard\n",
    "运行程序后执行：<br>\n",
    "- tensorboard --logdir=C:/Users/Administrator/CS20SI/graphs <br>\n",
    "- http://localhost:6006/"
   ]
  },
  {
   "cell_type": "code",
   "execution_count": 2,
   "metadata": {},
   "outputs": [
    {
     "name": "stdout",
     "output_type": "stream",
     "text": [
      "5\n"
     ]
    }
   ],
   "source": [
    "a = tf.constant (2)\n",
    "b = tf.constant (3)\n",
    "c = tf.add (a, b)\n",
    "\n",
    "writer = tf.summary.FileWriter('./graphs', tf.get_default_graph())\n",
    "with tf.Session() as sess:\n",
    "    print (sess.run (c))\n",
    "writer.close()"
   ]
  },
  {
   "cell_type": "markdown",
   "metadata": {},
   "source": [
    "## 2 constant \n",
    "tf.constant(\n",
    "    value,\n",
    "    dtype=None,\n",
    "    shape=None,\n",
    "    name='Const',\n",
    "    verify_shape=False\n",
    ") <br>\n",
    "function ： 创建一个constant张量，值不可改变 <br>\n",
    "**constant较为简单，没有太多的内容**"
   ]
  },
  {
   "cell_type": "code",
   "execution_count": 3,
   "metadata": {},
   "outputs": [
    {
     "name": "stdout",
     "output_type": "stream",
     "text": [
      "1\n",
      "[[1 2 2]\n",
      " [2 2 2]]\n",
      "[[1 2 3]\n",
      " [4 5 6]]\n",
      "[[2 3 3]\n",
      " [3 3 3]]\n"
     ]
    }
   ],
   "source": [
    "a_1 = tf.constant (1, name = 'a_1')\n",
    "# 维度后续部分全部更新为2\n",
    "b_1 = tf.constant ([1, 2], shape = (2, 3), name = 'b_1')\n",
    "c_1 = tf.constant([[1, 2, 3], [4, 5, 6]], name = 'c_1')\n",
    "result_1 = tf.add (a_1, b_1)\n",
    "\n",
    "with tf.Session() as sess:\n",
    "    print (sess.run (a_1))\n",
    "    print (sess.run (b_1))\n",
    "    print (sess.run (c_1))\n",
    "    print (sess.run (result_1))"
   ]
  },
  {
   "cell_type": "markdown",
   "metadata": {},
   "source": [
    "#### 2.1 Tensors filled with a specific value\n",
    "一些特殊的constant函数 <br>\n",
    "tf.zeros(shape, dtype=tf.float32, name=None)<br>\n",
    "tf.zeros_like(input_tensor, dtype=None, name=None, optimize=True)<br>\n",
    "tf.ones(shape, dtype=tf.float32, name=None)<br>\n",
    "tf.ones_like(input_tensor, dtype=None, name=None, optimize=True)<br>\n",
    "tf.fill(dims, value, name=None)  # 填充value元素"
   ]
  },
  {
   "cell_type": "code",
   "execution_count": 4,
   "metadata": {},
   "outputs": [
    {
     "name": "stdout",
     "output_type": "stream",
     "text": [
      "[[0. 0.]\n",
      " [0. 0.]]\n",
      "[[0 0 0]\n",
      " [0 0 0]]\n",
      "[[8]\n",
      " [8]\n",
      " [8]]\n"
     ]
    }
   ],
   "source": [
    "a_2 = tf.zeros([2, 2])\n",
    "b_2 = tf.zeros_like (b_1)\n",
    "c_2 = tf.fill ([3, 1], 8)\n",
    "with tf.Session() as sess:\n",
    "    print (sess.run(a_2))\n",
    "    print (sess.run(b_2))\n",
    "    print (sess.run (c_2))"
   ]
  },
  {
   "cell_type": "markdown",
   "metadata": {},
   "source": [
    "#### 2.2 Constants as sequences\n",
    "序列取constant值： <br>\n",
    "tf.linspace(start, stop, num, name=None) <br>\n",
    "tf.range(start, limit=None, delta=1, dtype=None, name='range')\u000b"
   ]
  },
  {
   "cell_type": "code",
   "execution_count": 5,
   "metadata": {},
   "outputs": [
    {
     "name": "stdout",
     "output_type": "stream",
     "text": [
      "[10.  12.5 15.  17.5 20. ]\n",
      "[1 4]\n",
      "[0 1 2 3 4 5 6 7 8 9]\n"
     ]
    }
   ],
   "source": [
    "a_3 = tf.linspace(10.0, 20.0, 5)\n",
    "b_3 = tf.range (1, 5, 3)\n",
    "c_3 = tf.range (10)\n",
    "with tf.Session() as sess:\n",
    "    print (sess.run (a_3))\n",
    "    print (sess.run (b_3))\n",
    "    print (sess.run (c_3))"
   ]
  },
  {
   "cell_type": "markdown",
   "metadata": {},
   "source": [
    "#### 2.3 Randomly Generated Constants\n",
    "随机取值 <br>\n",
    "tf.random_normal <br>\n",
    "tf.truncated_normal <br>\n",
    "tf.random_uniform <br>\n",
    "tf.random_shuffle <br>\n",
    "tf.random_crop <br>\n",
    "tf.multinomial <br>\n",
    "tf.random_gamma <br>\n"
   ]
  },
  {
   "cell_type": "markdown",
   "metadata": {},
   "source": [
    "#### 2.4 Arithmetic Ops\n"
   ]
  },
  {
   "cell_type": "code",
   "execution_count": 6,
   "metadata": {},
   "outputs": [
    {
     "name": "stdout",
     "output_type": "stream",
     "text": [
      "[5 8]\n",
      "[ 7 10]\n",
      "[ 6 12]\n",
      "[[18]]\n",
      "[1 3]\n",
      "[1 0]\n"
     ]
    }
   ],
   "source": [
    "a = tf.constant([3, 6])\n",
    "b = tf.constant([2, 2])\n",
    "\n",
    "with tf.Session() as sess:\n",
    "    print (tf.add(a, b).eval())\n",
    "    # 连加\n",
    "    print (tf.add_n([a, b, b]).eval())\n",
    "    print (tf.multiply (a, b).eval())\n",
    "    # 矩阵相乘\n",
    "    # tf.matmul (a, b) 会报错\n",
    "    print (tf.matmul (tf.reshape(a, [1, 2]), tf.reshape(b, [2, 1])).eval())\n",
    "    # 商\n",
    "    print (tf.div (a, b).eval())\n",
    "    # 余\n",
    "    print (tf.mod (a, b).eval())"
   ]
  }
 ],
 "metadata": {
  "kernelspec": {
   "display_name": "Python 3",
   "language": "python",
   "name": "python3"
  },
  "language_info": {
   "codemirror_mode": {
    "name": "ipython",
    "version": 3
   },
   "file_extension": ".py",
   "mimetype": "text/x-python",
   "name": "python",
   "nbconvert_exporter": "python",
   "pygments_lexer": "ipython3",
   "version": "3.6.5"
  }
 },
 "nbformat": 4,
 "nbformat_minor": 2
}
