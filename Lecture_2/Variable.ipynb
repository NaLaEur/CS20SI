{
 "cells": [
  {
   "cell_type": "code",
   "execution_count": null,
   "metadata": {},
   "outputs": [
    {
     "name": "stderr",
     "output_type": "stream",
     "text": [
      "D:\\Anaconda3\\lib\\site-packages\\h5py\\__init__.py:36: FutureWarning: Conversion of the second argument of issubdtype from `float` to `np.floating` is deprecated. In future, it will be treated as `np.float64 == np.dtype(float).type`.\n",
      "  from ._conv import register_converters as _register_converters\n"
     ]
    }
   ],
   "source": [
    "import tensorflow as tf"
   ]
  },
  {
   "cell_type": "markdown",
   "metadata": {},
   "source": [
    "## 2. Variable\n",
    "\n",
    "**函数：tf.Variable(initial-value, name= optional-name)** <br>\n",
    "#### 问1 为什么constant的第一个字母是小写c，而Variable的第一个字母是大写V?\n",
    "&emsp; tf.constant 是一个op <br>\n",
    "&emsp; tf.Variable 是一个ops <br>\n",
    "- x.initializer # init op\n",
    "- x.value() # read op\n",
    "- x.assign(...) # write op    \n",
    "- x.assign_add(...) # and more\n"
   ]
  },
  {
   "cell_type": "markdown",
   "metadata": {},
   "source": [
    "### 2.1 Variable的声明和初始化\n",
    "\n",
    "- Variable在使用前需要初始化操作"
   ]
  },
  {
   "cell_type": "code",
   "execution_count": null,
   "metadata": {},
   "outputs": [],
   "source": [
    "s = tf.Variable (2, name = 'scalar')\n",
    "v = tf.Variable ([1, 2, 3], name = 'vector')\n",
    "m = tf.Variable (tf.random_normal([784, 10]), name = 'matrix')\n",
    "\n",
    "with tf.Session() as sess:\n",
    "    # 2.1.1 简单粗暴，初始化所有变量\n",
    "    sess.run (tf.initialize_all_variables())\n",
    "    # 2.1.2 只初始化部分变量\n",
    "    sess.run (tf.variables_initializer([s, m]))\n",
    "    # 2.1.3 只初始化一个变量m\n",
    "    sess.run (m.initializer)\n",
    "    print (m.eval())\n",
    "#    print(sess.run(W))   >> FailedPreconditionError: Attempting to use uninitialized value Variable\n"
   ]
  },
  {
   "cell_type": "markdown",
   "metadata": {},
   "source": [
    "## 2.2 Variable的assign操作"
   ]
  },
  {
   "cell_type": "code",
   "execution_count": null,
   "metadata": {},
   "outputs": [],
   "source": [
    "W = tf.Variable (10, name = 'W')\n",
    "assign_op = tf.assign(W, 100)\n",
    "\n",
    "init = tf.global_variables_initializer()\n",
    "# 这个会话框中因为没有run assign_op，所以这个assign函数不会调用,值不变\n",
    "with tf.Session() as sess:\n",
    "    sess.run (init)\n",
    "    print (W.eval())\n",
    "\n",
    "with tf.Session() as sess:\n",
    "    sess.run (init)\n",
    "    sess.run (assign_op)\n",
    "    print (W.eval())"
   ]
  },
  {
   "cell_type": "markdown",
   "metadata": {},
   "source": [
    "## 2.3 Variable的sub和add操作"
   ]
  },
  {
   "cell_type": "code",
   "execution_count": null,
   "metadata": {},
   "outputs": [],
   "source": [
    "w_1 = tf.Variable (10, name = 'w_1')\n",
    "\n",
    "with tf.Session() as sess:\n",
    "    sess.run (tf.global_variables_initializer())\n",
    "    print (\"w_1 = \", w_1.eval())\n",
    "    sess.run (w_1.assign_add (10))\n",
    "    print (\"w_1 = \", w_1.eval())\n",
    "    sess.run (w_1.assign_sub (5))\n",
    "    print (\"w_1 = \", w_1.eval())"
   ]
  },
  {
   "cell_type": "markdown",
   "metadata": {},
   "source": [
    "## 2.4 不同Session下的sub和add操作 \n",
    "\n",
    "&emsp;&emsp;**不同Session的值是互相独立的**"
   ]
  },
  {
   "cell_type": "code",
   "execution_count": null,
   "metadata": {},
   "outputs": [],
   "source": [
    "W = tf.Variable(10)\n",
    "\n",
    "sess1 = tf.Session()\n",
    "sess2 = tf.Session()\n",
    "\n",
    "sess1.run(W.initializer)\n",
    "sess2.run(W.initializer)\n",
    "\n",
    "print(sess1.run(W.assign_add(10)))  # >> 20\n",
    "print(sess2.run(W.assign_sub(2))) # >> 8\n",
    "\n",
    "print(sess1.run(W.assign_add(100))) # >> 120\n",
    "print(sess2.run(W.assign_sub(50))) # >> -42\n",
    "\n",
    "sess1.close()\n",
    "sess2.close()\n"
   ]
  },
  {
   "cell_type": "markdown",
   "metadata": {},
   "source": [
    "## tf.get_variable()\n",
    "W = tf.get_variable(name, shape=None, dtype=tf.float32, initializer=None,\n",
    "       regularizer=None, trainable=True, collections=None) <br>\n",
    "**相较于tf.Variable推荐使用这个，因为tf.get_variable() 会检查当前命名空间下是否存在同样name的变量，可以方便共享变量。而tf.Variable 每次都会新建一个变量。**<br>\n",
    "**需要注意的是tf.get_variable() 要配合reuse和tf.variable_scope() 使用。** <br>\n",
    "**再次运行的时候需要restart**"
   ]
  },
  {
   "cell_type": "code",
   "execution_count": null,
   "metadata": {},
   "outputs": [],
   "source": [
    "with tf.variable_scope(\"ones\"):\n",
    "    a = tf.get_variable(\"v\", [1]) #a.name == \"one/v:0\"\n",
    "with tf.variable_scope(\"ones\", reuse = True): #注意reuse的作用。\n",
    "    c = tf.get_variable(\"v\", [1]) #c.name == \"one/v:0\" 成功共享，因为设置了reuse\n",
    "with tf.variable_scope(\"ones\"):\n",
    "    b = tf.get_variable(\"v\", [1]) #创建两个名字一样的变量会报错 ValueError: Variable one/v already exists \n",
    "assert a==c #Assertion is true, they refer to the same object."
   ]
  },
  {
   "cell_type": "code",
   "execution_count": null,
   "metadata": {},
   "outputs": [],
   "source": [
    "with tf.variable_scope(\"two\"):\n",
    "    d = tf.get_variable(\"v\", [1]) #d.name == \"two/v:0\"\n",
    "    e = tf.Variable(1, name = \"v\", expected_shape = [1]) #e.name == \"two/v_1:0\"  \n",
    "\n",
    "assert d==e #AssertionError: they are different objects"
   ]
  },
  {
   "cell_type": "code",
   "execution_count": null,
   "metadata": {},
   "outputs": [],
   "source": []
  }
 ],
 "metadata": {
  "kernelspec": {
   "display_name": "Python 3",
   "language": "python",
   "name": "python3"
  },
  "language_info": {
   "codemirror_mode": {
    "name": "ipython",
    "version": 3
   },
   "file_extension": ".py",
   "mimetype": "text/x-python",
   "name": "python",
   "nbconvert_exporter": "python",
   "pygments_lexer": "ipython3",
   "version": "3.6.5"
  }
 },
 "nbformat": 4,
 "nbformat_minor": 2
}
