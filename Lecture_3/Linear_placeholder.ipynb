{
 "cells": [
  {
   "cell_type": "code",
   "execution_count": 1,
   "metadata": {},
   "outputs": [
    {
     "name": "stderr",
     "output_type": "stream",
     "text": [
      "D:\\Anaconda3\\lib\\site-packages\\h5py\\__init__.py:36: FutureWarning: Conversion of the second argument of issubdtype from `float` to `np.floating` is deprecated. In future, it will be treated as `np.float64 == np.dtype(float).type`.\n",
      "  from ._conv import register_converters as _register_converters\n"
     ]
    }
   ],
   "source": [
    "import tensorflow as tf\n",
    "import utils\n",
    "import time"
   ]
  },
  {
   "cell_type": "code",
   "execution_count": 2,
   "metadata": {},
   "outputs": [],
   "source": [
    "DATA_FILE = 'birth_life_2010.txt'"
   ]
  },
  {
   "cell_type": "markdown",
   "metadata": {},
   "source": [
    "**Step 1: read in data from the .txt file**"
   ]
  },
  {
   "cell_type": "code",
   "execution_count": 3,
   "metadata": {},
   "outputs": [
    {
     "name": "stdout",
     "output_type": "stream",
     "text": [
      "data.shape = (190, 2)\n",
      "n_sample = 190\n"
     ]
    }
   ],
   "source": [
    "data, n_sample = utils.read_birth_life_data (DATA_FILE)\n",
    "print (\"data.shape =\",data.shape)\n",
    "print (\"n_sample =\", n_sample)"
   ]
  },
  {
   "cell_type": "code",
   "execution_count": 4,
   "metadata": {},
   "outputs": [],
   "source": [
    "# Step 2: create placeholders for X (birth rate) and Y (life expectancy)\n",
    "X = tf.placeholder (tf.float32, name = 'X')\n",
    "Y = tf.placeholder (tf.float32, name = 'Y')\n",
    "\n",
    "w = tf.get_variable (name = \"weights\", initializer = tf.constant(0.0))\n",
    "b = tf.get_variable (name = \"bias\", initializer = tf.constant(0.0))\n",
    "\n",
    "Y_predict = w * X + b\n",
    "\n",
    "loss = tf.square (Y_predict - Y, name = 'loss')\n",
    "\n",
    "optimizer = tf.train.GradientDescentOptimizer(learning_rate=0.001).minimize(loss)"
   ]
  },
  {
   "cell_type": "code",
   "execution_count": 5,
   "metadata": {},
   "outputs": [
    {
     "name": "stdout",
     "output_type": "stream",
     "text": [
      "Epoch 0: Loss 1661.863764550287\n",
      "Epoch 10: Loss 335.55436177954664\n",
      "Epoch 20: Loss 119.20935661137888\n",
      "Epoch 30: Loss 55.77163058824279\n",
      "Epoch 40: Loss 37.305592010505066\n",
      "Epoch 50: Loss 32.004961317298495\n",
      "Epoch 60: Loss 30.524589418089263\n",
      "Epoch 70: Loss 30.134226098457216\n",
      "Epoch 80: Loss 30.04458791257593\n",
      "Epoch 90: Loss 30.03209388247043\n",
      "Took: 7.231414 seconds\n"
     ]
    }
   ],
   "source": [
    "start = time.time()\n",
    "writer = tf.summary.FileWriter('./graphs/linear_reg', tf.get_default_graph())\n",
    "with tf.Session() as sess:\n",
    "    # Step 7: initialize the necessary variables, in this case, w and b\n",
    "    sess.run(tf.global_variables_initializer()) \n",
    "    \n",
    "    # Step 8: train the model for 100 epochs\n",
    "    for i in range(100): \n",
    "        total_loss = 0\n",
    "        for x, y in data:\n",
    "        # Session execute optimizer and fetch values of loss\n",
    "            _, l = sess.run([optimizer, loss], feed_dict={X: x, Y:y}) \n",
    "            total_loss += l\n",
    "        if i % 10 == 0:\n",
    "            print('Epoch {0}: Loss {1}'.format(i, total_loss/n_sample))\n",
    "\n",
    "    # close the writer when you're done using it\n",
    "    writer.close() \n",
    "    \n",
    "    # Step 9: output the values of w and b\n",
    "    w_out, b_out = sess.run([w, b]) \n",
    "\n",
    "print('Took: %f seconds' %(time.time() - start))"
   ]
  },
  {
   "cell_type": "code",
   "execution_count": null,
   "metadata": {},
   "outputs": [],
   "source": []
  },
  {
   "cell_type": "code",
   "execution_count": null,
   "metadata": {},
   "outputs": [],
   "source": []
  }
 ],
 "metadata": {
  "kernelspec": {
   "display_name": "Python 3",
   "language": "python",
   "name": "python3"
  },
  "language_info": {
   "codemirror_mode": {
    "name": "ipython",
    "version": 3
   },
   "file_extension": ".py",
   "mimetype": "text/x-python",
   "name": "python",
   "nbconvert_exporter": "python",
   "pygments_lexer": "ipython3",
   "version": "3.6.5"
  }
 },
 "nbformat": 4,
 "nbformat_minor": 2
}
