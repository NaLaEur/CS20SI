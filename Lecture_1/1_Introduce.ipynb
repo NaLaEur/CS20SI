{
 "cells": [
  {
   "cell_type": "code",
   "execution_count": 1,
   "metadata": {},
   "outputs": [
    {
     "name": "stderr",
     "output_type": "stream",
     "text": [
      "D:\\Anaconda3\\lib\\site-packages\\h5py\\__init__.py:36: FutureWarning: Conversion of the second argument of issubdtype from `float` to `np.floating` is deprecated. In future, it will be treated as `np.float64 == np.dtype(float).type`.\n",
      "  from ._conv import register_converters as _register_converters\n"
     ]
    }
   ],
   "source": [
    "import tensorflow as tf"
   ]
  },
  {
   "cell_type": "markdown",
   "metadata": {},
   "source": [
    "### 1 什么是Tensor\n",
    "\n",
    "Nodes: operators, variables, and constants<br>\n",
    "Edges: tensors<br>\n",
    "\n",
    "**Tensors are data.**<br>\n",
    "&emsp;&emsp;Tensor（张量）是一个数据容器，是矩阵向任意维度推广的结果 <br>\n",
    "- 标量(scalar) 也称 0D Tensor,常见的数字 1 2 3 都是标量，有0个轴\n",
    "- 向量(vector) 也称 1D Tensor,常见的数组[0, 1, 2, 3, 4],被称为5D向量，注意是5D向量，不是5D张量，注意区分。\n",
    "- 矩阵(matrix) 也称 2D Tensor,常见的矩阵，可以将灰度图理解为2D Tensor,有两个轴\n",
    "- 3D 和以上 <br><br>\n",
    "**TensorFlow = tensor + flow = data + flow** "
   ]
  },
  {
   "cell_type": "code",
   "execution_count": 9,
   "metadata": {},
   "outputs": [
    {
     "name": "stdout",
     "output_type": "stream",
     "text": [
      "Tensor(\"scalar_a:0\", shape=(), dtype=int32)\n",
      "Tensor(\"Add_8:0\", shape=(2,), dtype=float32)\n"
     ]
    }
   ],
   "source": [
    "# a 代表的是一个Temsor, print (a)所出的是 name, shape, dtype\n",
    "a = tf.add(3, 5, name = 'scalar_a')\n",
    "b = tf.add ([1.0, 2], [3, 4])\n",
    "print (a)\n",
    "print (b)"
   ]
  },
  {
   "cell_type": "markdown",
   "metadata": {},
   "source": [
    "### 2 什么是Flow <br>\n",
    "    上面的操作是构建了一个图，这里将使用一个会话框会使的这个图运动起来"
   ]
  },
  {
   "cell_type": "code",
   "execution_count": 20,
   "metadata": {},
   "outputs": [
    {
     "name": "stdout",
     "output_type": "stream",
     "text": [
      "8\n",
      "[4. 6.]\n"
     ]
    }
   ],
   "source": [
    "sess = tf.Session()\n",
    "print (sess.run(a))\n",
    "print (sess.run (b))\n",
    "sess.close()"
   ]
  },
  {
   "cell_type": "markdown",
   "metadata": {},
   "source": [
    "也可以用下面的方式运行，这种方式运行无需手动关闭会话框<br>\n",
    "<img src=\"pic/pic_1_1.png\" width=\"40%\">"
   ]
  },
  {
   "cell_type": "code",
   "execution_count": 21,
   "metadata": {},
   "outputs": [
    {
     "name": "stdout",
     "output_type": "stream",
     "text": [
      "15625\n"
     ]
    }
   ],
   "source": [
    "x = 2\n",
    "y = 3\n",
    "op1 = tf.add (x, y)\n",
    "op2 = tf.multiply (x, y)\n",
    "op3 = tf.pow (op1, op2)\n",
    "\n",
    "with tf.Session() as sess:\n",
    "    print (sess.run (op3))"
   ]
  },
  {
   "cell_type": "markdown",
   "metadata": {},
   "source": [
    "对于Sesion.run这个函数，只有针对每个输出使用这个函数的时候，这个值一些列的操作才会有结果<br>\n",
    "那么因此下面会话框中的两句话对应的就是不同的执行数据流 <br>\n",
    "tf.Session.run(fetches,\n",
    "   \tfeed_dict=None,\n",
    "    options=None,\n",
    "    run_metadata=None)\n",
    "<br><img src=\"pic/pic_1_2.png\" width=\"40%\">"
   ]
  },
  {
   "cell_type": "code",
   "execution_count": 24,
   "metadata": {},
   "outputs": [
    {
     "name": "stdout",
     "output_type": "stream",
     "text": [
      "15625\n",
      "15625 10\n"
     ]
    }
   ],
   "source": [
    "x = 2\n",
    "y = 3\n",
    "add_op = tf.add(x, y)\n",
    "mul_op = tf.multiply(x, y)\n",
    "useless = tf.multiply(x, add_op)\n",
    "pow_op = tf.pow(add_op, mul_op)\n",
    "with tf.Session() as sess:\n",
    "    # 执行了 add_op mul_op pow_op \n",
    "    z = sess.run(pow_op)\n",
    "    print (z)\n",
    "with tf.Session() as sess:\n",
    "    # 执行了 add_op mul_op pow_op  useless\n",
    "    z, use = sess.run([pow_op, useless])\n",
    "    print (z, use)"
   ]
  },
  {
   "cell_type": "markdown",
   "metadata": {},
   "source": [
    "### 3 Graph <br>\n",
    "&emsp;&emsp;Graph 图，是TensorFlow操作的背景板，所有操作的搭建都是在Graph中进行的，一般使用默认的，也可以自己声明"
   ]
  },
  {
   "cell_type": "code",
   "execution_count": 34,
   "metadata": {},
   "outputs": [
    {
     "name": "stdout",
     "output_type": "stream",
     "text": [
      "8\n"
     ]
    }
   ],
   "source": [
    "g1 = tf.Graph()\n",
    "with g1.as_default():\n",
    "    x = tf.add (3, 5)\n",
    "    with tf.Session() as sess:\n",
    "        print (sess.run (x))\n"
   ]
  },
  {
   "cell_type": "code",
   "execution_count": 37,
   "metadata": {},
   "outputs": [
    {
     "name": "stdout",
     "output_type": "stream",
     "text": [
      "with graph g1, result: [2. 2.]\n",
      "with graph g2, result: [4. 4.]\n",
      "with graph default, result: [3. 3.]\n",
      "3\n"
     ]
    }
   ],
   "source": [
    "# -*- coding: utf-8 -*-)\n",
    "import tensorflow as tf\n",
    " \n",
    "# 在系统默认计算图上创建张量和操作\n",
    "a=tf.constant([1.0,2.0])\n",
    "b=tf.constant([2.0,1.0])\n",
    "result = a+b\n",
    " \n",
    "# 定义两个计算图\n",
    "g1=tf.Graph()\n",
    "g2=tf.Graph()\n",
    " \n",
    "# 在计算图g1中定义张量和操作\n",
    "with g1.as_default():\n",
    "    a = tf.constant([1.0, 1.0])\n",
    "    b = tf.constant([1.0, 1.0])\n",
    "    result1 = a + b\n",
    " \n",
    "with g2.as_default():\n",
    "    a = tf.constant([2.0, 2.0])\n",
    "    b = tf.constant([2.0, 2.0])\n",
    "    result2 = a + b\n",
    " \n",
    " \n",
    "# 在g1计算图上创建会话\n",
    "with tf.Session(graph=g1) as sess:\n",
    "    out = sess.run(result1)\n",
    "    print ('with graph g1, result: {0}'.format(out))\n",
    " \n",
    "with tf.Session(graph=g2) as sess:\n",
    "    out = sess.run(result2)\n",
    "    print ('with graph g2, result: {0}'.format(out))\n",
    " \n",
    "# 在默认计算图上创建会话\n",
    "with tf.Session(graph=tf.get_default_graph()) as sess:\n",
    "    out = sess.run(result)\n",
    "    print ('with graph default, result: {0}'.format(out))\n",
    " \n",
    "print (g1.version)  # 返回计算图中操作的个数\n"
   ]
  },
  {
   "cell_type": "code",
   "execution_count": null,
   "metadata": {},
   "outputs": [],
   "source": []
  }
 ],
 "metadata": {
  "kernelspec": {
   "display_name": "Python 3",
   "language": "python",
   "name": "python3"
  },
  "language_info": {
   "codemirror_mode": {
    "name": "ipython",
    "version": 3
   },
   "file_extension": ".py",
   "mimetype": "text/x-python",
   "name": "python",
   "nbconvert_exporter": "python",
   "pygments_lexer": "ipython3",
   "version": "3.6.5"
  }
 },
 "nbformat": 4,
 "nbformat_minor": 2
}
